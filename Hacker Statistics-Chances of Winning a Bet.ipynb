{
 "cells": [
  {
   "cell_type": "markdown",
   "id": "19470f46",
   "metadata": {},
   "source": [
    "<h1><center>Hacker Statistics - Chances of Winning a Bet</h1></center>\n",
    "<b>Purpose:</b> This document was an exercise from DataCamp.com"
   ]
  },
  {
   "cell_type": "markdown",
   "id": "aad4571e",
   "metadata": {},
   "source": [
    "## Random Numbers"
   ]
  },
  {
   "cell_type": "markdown",
   "id": "c8343386",
   "metadata": {},
   "source": [
    "### Coin toss\n",
    "Because \"seed\" is used, the same reproducable result will occur."
   ]
  },
  {
   "cell_type": "code",
   "execution_count": 1,
   "id": "ff4825f0",
   "metadata": {},
   "outputs": [
    {
     "name": "stdout",
     "output_type": "stream",
     "text": [
      "0\n",
      "heads\n"
     ]
    }
   ],
   "source": [
    "# Import numpy \n",
    "import numpy as np\n",
    "\n",
    "# Set seed\n",
    "np.random.rand()\n",
    "np.random.seed(123)\n",
    "\n",
    "# Randomly generate 0 or 1\n",
    "coin = np.random.randint(0,2)\n",
    "print(coin)\n",
    "\n",
    "if coin == 0:\n",
    "    print(\"heads\")\n",
    "else:\n",
    "    print(\"tails\")"
   ]
  },
  {
   "cell_type": "markdown",
   "id": "8526de02",
   "metadata": {},
   "source": [
    "### Roll the dice"
   ]
  },
  {
   "cell_type": "markdown",
   "id": "de578ec5",
   "metadata": {},
   "source": [
    "The followng example simulates the roll of dice 1-6.  Seed is used to reproduce the same result"
   ]
  },
  {
   "cell_type": "code",
   "execution_count": 2,
   "id": "bd721fe5",
   "metadata": {},
   "outputs": [
    {
     "name": "stdout",
     "output_type": "stream",
     "text": [
      "6\n",
      "5\n"
     ]
    }
   ],
   "source": [
    "# Import numpy \n",
    "import numpy as np\n",
    "\n",
    "# Set seed\n",
    "np.random.seed(123)\n",
    "\n",
    "# Use randint() to simulate a dice\n",
    "print(np.random.randint(0,7))\n",
    "\n",
    "# Use randint() again\n",
    "print(np.random.randint(0,7))"
   ]
  },
  {
   "cell_type": "code",
   "execution_count": 3,
   "id": "1437a128",
   "metadata": {},
   "outputs": [
    {
     "name": "stdout",
     "output_type": "stream",
     "text": [
      "3 51\n"
     ]
    }
   ],
   "source": [
    "# Import numpy \n",
    "import numpy as np\n",
    "\n",
    "# Starting step\n",
    "step = 50\n",
    "\n",
    "# Roll the dice\n",
    "dice = np.random.randint(1,7)\n",
    "\n",
    "# Finish the control construct\n",
    "if dice <= 2 :\n",
    "    step -= 1\n",
    "elif dice in [3,4,5] :\n",
    "    step += 1\n",
    "else :\n",
    "    step = step + np.random.randint(1,7)\n",
    "\n",
    "# Print out dice and step\n",
    "print(dice, step)"
   ]
  },
  {
   "cell_type": "code",
   "execution_count": null,
   "id": "916d6243",
   "metadata": {},
   "outputs": [],
   "source": []
  },
  {
   "cell_type": "code",
   "execution_count": null,
   "id": "944d98eb",
   "metadata": {},
   "outputs": [],
   "source": []
  },
  {
   "cell_type": "code",
   "execution_count": null,
   "id": "aa5f8b2e",
   "metadata": {},
   "outputs": [],
   "source": []
  },
  {
   "cell_type": "code",
   "execution_count": null,
   "id": "6e21017b",
   "metadata": {},
   "outputs": [],
   "source": []
  }
 ],
 "metadata": {
  "kernelspec": {
   "display_name": "Python 3 (ipykernel)",
   "language": "python",
   "name": "python3"
  },
  "language_info": {
   "codemirror_mode": {
    "name": "ipython",
    "version": 3
   },
   "file_extension": ".py",
   "mimetype": "text/x-python",
   "name": "python",
   "nbconvert_exporter": "python",
   "pygments_lexer": "ipython3",
   "version": "3.9.13"
  }
 },
 "nbformat": 4,
 "nbformat_minor": 5
}
